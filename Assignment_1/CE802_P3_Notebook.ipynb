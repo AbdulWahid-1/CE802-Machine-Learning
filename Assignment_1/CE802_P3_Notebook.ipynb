{
 "cells": [
  {
   "cell_type": "markdown",
   "metadata": {},
   "source": [
    "### Part A"
   ]
  },
  {
   "cell_type": "code",
   "execution_count": 82,
   "metadata": {},
   "outputs": [],
   "source": [
    "import pandas as pd\n",
    "import numpy as np\n",
    "from sklearn.preprocessing import LabelEncoder\n",
    "from sklearn.linear_model import LinearRegression\n",
    "from sklearn.ensemble import RandomForestRegressor\n",
    "from sklearn.linear_model import BayesianRidge\n",
    "from sklearn.tree import DecisionTreeRegressor\n",
    "from sklearn.neighbors import KNeighborsRegressor\n",
    "from sklearn.svm import SVR\n",
    "from sklearn.model_selection import train_test_split \n",
    "from sklearn.metrics import  accuracy_score"
   ]
  },
  {
   "attachments": {},
   "cell_type": "markdown",
   "metadata": {},
   "source": [
    "**Loading Dataset and performing pre-processing**"
   ]
  },
  {
   "cell_type": "code",
   "execution_count": 137,
   "metadata": {},
   "outputs": [],
   "source": [
    "df = pd.read_csv(\"CE802_P3_Data.csv\")\n",
    "encd = LabelEncoder()\n",
    "encd.fit(df['F6'])\n",
    "df['F6'] = encd.transform(df['F6'])\n",
    "encd.fit(df['F9'])\n",
    "df['F9'] = encd.transform(df['F9'])\n",
    "x_value = df.iloc[:, :-1].values\n",
    "y_value = df.iloc[:, -1].values\n",
    "x_train, x_test, y_train, y_test = train_test_split(x_value, y_value, test_size=.3, random_state=42)"
   ]
  },
  {
   "attachments": {},
   "cell_type": "markdown",
   "metadata": {},
   "source": [
    "**Linear Regressor**"
   ]
  },
  {
   "cell_type": "code",
   "execution_count": 138,
   "metadata": {},
   "outputs": [],
   "source": [
    "L_rgr = LinearRegression()\n",
    "L_rgr.fit(x_train, y_train)\n",
    "L_rgr_pred = L_rgr.predict(x_test)"
   ]
  },
  {
   "attachments": {},
   "cell_type": "markdown",
   "metadata": {},
   "source": [
    "Accuracy"
   ]
  },
  {
   "cell_type": "code",
   "execution_count": 139,
   "metadata": {},
   "outputs": [
    {
     "name": "stdout",
     "output_type": "stream",
     "text": [
      "Accuracy:  0.5112634107880292\n"
     ]
    }
   ],
   "source": [
    "L_rgr_accuracy = L_rgr.score(x_test, y_test)\n",
    "print('Accuracy: ', L_rgr_accuracy)"
   ]
  },
  {
   "attachments": {},
   "cell_type": "markdown",
   "metadata": {},
   "source": [
    "**Random Forest Regressor**"
   ]
  },
  {
   "cell_type": "code",
   "execution_count": 140,
   "metadata": {},
   "outputs": [],
   "source": [
    "RF_rgr = RandomForestRegressor()\n",
    "RF_rgr.fit(x_train, y_train)\n",
    "RF_rgr_pred = RF_rgr.predict(x_test)"
   ]
  },
  {
   "attachments": {},
   "cell_type": "markdown",
   "metadata": {},
   "source": [
    "Accuracy"
   ]
  },
  {
   "cell_type": "code",
   "execution_count": 141,
   "metadata": {},
   "outputs": [
    {
     "name": "stdout",
     "output_type": "stream",
     "text": [
      "Accuracy:  0.6816529705623919\n"
     ]
    }
   ],
   "source": [
    "RF_rgr_accuracy = RF_rgr.score(x_test, y_test)\n",
    "print('Accuracy: ', RF_rgr_accuracy)"
   ]
  },
  {
   "attachments": {},
   "cell_type": "markdown",
   "metadata": {},
   "source": [
    "**Bayesian Linear Regression**"
   ]
  },
  {
   "cell_type": "code",
   "execution_count": 142,
   "metadata": {},
   "outputs": [],
   "source": [
    "BL_rgr = BayesianRidge()\n",
    "BL_rgr.fit(x_train, y_train)\n",
    "BL_rgr_pred = BL_rgr.predict(x_test)"
   ]
  },
  {
   "attachments": {},
   "cell_type": "markdown",
   "metadata": {},
   "source": [
    "Accuracy"
   ]
  },
  {
   "cell_type": "code",
   "execution_count": 143,
   "metadata": {},
   "outputs": [
    {
     "name": "stdout",
     "output_type": "stream",
     "text": [
      "Accuracy:  0.10776971020526915\n"
     ]
    }
   ],
   "source": [
    "BL_rgr_accuracy = BL_rgr.score(x_test, y_test)\n",
    "print('Accuracy: ', BL_rgr_accuracy)"
   ]
  },
  {
   "attachments": {},
   "cell_type": "markdown",
   "metadata": {},
   "source": [
    "**Decission Tree Regressor**"
   ]
  },
  {
   "cell_type": "code",
   "execution_count": 144,
   "metadata": {},
   "outputs": [],
   "source": [
    "DT_rgr = DecisionTreeRegressor()\n",
    "DT_rgr.fit(x_train, y_train)\n",
    "DT_rgr_pred = DT_rgr.predict(x_test)"
   ]
  },
  {
   "attachments": {},
   "cell_type": "markdown",
   "metadata": {},
   "source": [
    "Accuracy"
   ]
  },
  {
   "cell_type": "code",
   "execution_count": 145,
   "metadata": {},
   "outputs": [
    {
     "name": "stdout",
     "output_type": "stream",
     "text": [
      "Accuracy:  0.31281984209185765\n"
     ]
    }
   ],
   "source": [
    "DT_rgr_accuracy = DT_rgr.score(x_test, y_test)\n",
    "print('Accuracy: ', DT_rgr_accuracy)"
   ]
  },
  {
   "attachments": {},
   "cell_type": "markdown",
   "metadata": {},
   "source": [
    "**KNN Regressor**"
   ]
  },
  {
   "cell_type": "code",
   "execution_count": 146,
   "metadata": {},
   "outputs": [],
   "source": [
    "KNN_rgr = KNeighborsRegressor()\n",
    "KNN_rgr.fit(x_train, y_train)\n",
    "KNN_rgr_pred = KNN_rgr.predict(x_test)"
   ]
  },
  {
   "attachments": {},
   "cell_type": "markdown",
   "metadata": {},
   "source": [
    "Accuracy"
   ]
  },
  {
   "cell_type": "code",
   "execution_count": 147,
   "metadata": {},
   "outputs": [
    {
     "name": "stdout",
     "output_type": "stream",
     "text": [
      "Accuracy:  -0.20144629718047802\n"
     ]
    }
   ],
   "source": [
    "KNN_rgr_accuracy = KNN_rgr.score(x_test, y_test)\n",
    "print('Accuracy: ', KNN_rgr_accuracy)"
   ]
  },
  {
   "attachments": {},
   "cell_type": "markdown",
   "metadata": {},
   "source": [
    "**Support Vector Regressor**"
   ]
  },
  {
   "cell_type": "code",
   "execution_count": 148,
   "metadata": {},
   "outputs": [],
   "source": [
    "SV_rgr = SVR()\n",
    "SV_rgr.fit(x_train, y_train)\n",
    "SV_rgr_pred = SV_rgr.predict(x_test)"
   ]
  },
  {
   "attachments": {},
   "cell_type": "markdown",
   "metadata": {},
   "source": [
    "Accuracy"
   ]
  },
  {
   "cell_type": "code",
   "execution_count": 149,
   "metadata": {},
   "outputs": [
    {
     "name": "stdout",
     "output_type": "stream",
     "text": [
      "Accuracy:  -0.037797041587230185\n"
     ]
    }
   ],
   "source": [
    "SV_rgr_accuracy = SV_rgr.score(x_test, y_test)\n",
    "print('Accuracy: ', SV_rgr_accuracy)"
   ]
  },
  {
   "cell_type": "markdown",
   "metadata": {},
   "source": [
    "### Part B"
   ]
  },
  {
   "cell_type": "code",
   "execution_count": null,
   "metadata": {},
   "outputs": [],
   "source": [
    "# Replace the last (empty) column with your prediction\n"
   ]
  },
  {
   "cell_type": "code",
   "execution_count": 151,
   "metadata": {},
   "outputs": [
    {
     "name": "stderr",
     "output_type": "stream",
     "text": [
      "c:\\Users\\Hp\\AppData\\Local\\Programs\\Python\\Python38\\lib\\site-packages\\sklearn\\base.py:402: UserWarning: X has feature names, but RandomForestRegressor was fitted without feature names\n",
      "  warnings.warn(\n"
     ]
    }
   ],
   "source": [
    "\n",
    "test_df = pd.read_csv('CE802_P3_Test.csv')\n",
    "test_data = test_df.iloc[:,:-1].copy()\n",
    "encd = LabelEncoder()\n",
    "encd.fit(test_data['F6'])\n",
    "test_data['F6'] = encd.transform(test_data['F6'])\n",
    "encd.fit(test_data['F9'])\n",
    "test_data['F9'] = encd.transform(test_data['F9'])\n",
    "pred = RF_rgr.predict(test_data)\n",
    "\n",
    "predicted = pred\n",
    "\n",
    "test_df.iloc[:,-1] = predicted\n",
    "\n",
    "# Save the output file\n",
    "test_df.to_csv('CE802_P3_Test_Predictions.csv', index=False, float_format='%.8g')\n",
    "\n",
    "# To test if only the last column was changed\n",
    "assert pd.read_csv('CE802_P3_Test.csv').iloc[:,:-1].equals(pd.read_csv('CE802_P3_Test_Predictions.csv').iloc[:,:-1])"
   ]
  }
 ],
 "metadata": {
  "kernelspec": {
   "display_name": "Python 3",
   "language": "python",
   "name": "python3"
  },
  "language_info": {
   "codemirror_mode": {
    "name": "ipython",
    "version": 3
   },
   "file_extension": ".py",
   "mimetype": "text/x-python",
   "name": "python",
   "nbconvert_exporter": "python",
   "pygments_lexer": "ipython3",
   "version": "3.8.13"
  },
  "vscode": {
   "interpreter": {
    "hash": "24e825efde00d83ae8956899d00353005a5e8e868b3ba791ab8b91de6cfd1652"
   }
  }
 },
 "nbformat": 4,
 "nbformat_minor": 4
}
